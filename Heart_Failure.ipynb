{
 "cells": [
  {
   "cell_type": "markdown",
   "metadata": {},
   "source": [
    "# Heart Failure Prediction"
   ]
  },
  {
   "cell_type": "markdown",
   "metadata": {},
   "source": [
    "Cardiovascular diseases (CVDs) are the number 1 cause of death globally, taking an estimated 17.9 million lives each year, which accounts for 31% of all deaths worldwide. Heart failure is a common event caused by CVDs.\n",
    "\n",
    "In this project, I will develop a model that can be used to predict mortality by heart failure based on 12 health-related features. The dataset is obtained from [Kaggle](https://www.kaggle.com/andrewmvd/heart-failure-clinical-data). "
   ]
  },
  {
   "cell_type": "code",
   "execution_count": 74,
   "metadata": {},
   "outputs": [],
   "source": [
    "import numpy as np\n",
    "import pandas as pd\n",
    "from matplotlib import pyplot as plt\n",
    "import seaborn as sns\n",
    "from collections import Counter\n",
    "from sklearn.model_selection import train_test_split\n",
    "from sklearn.preprocessing import StandardScaler, LabelEncoder\n",
    "from sklearn.compose import ColumnTransformer\n",
    "from tensorflow.keras.utils import to_categorical\n",
    "from tensorflow.keras import Sequential\n",
    "from tensorflow.keras.layers import InputLayer\n",
    "from tensorflow.keras.layers import Dense\n",
    "from sklearn.metrics import classification_report"
   ]
  },
  {
   "cell_type": "markdown",
   "metadata": {},
   "source": [
    "## 1. Loading the Data"
   ]
  },
  {
   "cell_type": "code",
   "execution_count": 75,
   "metadata": {},
   "outputs": [],
   "source": [
    "data = pd.read_csv('heart_failure.csv')"
   ]
  },
  {
   "cell_type": "code",
   "execution_count": 76,
   "metadata": {},
   "outputs": [
    {
     "name": "stdout",
     "output_type": "stream",
     "text": [
      "<class 'pandas.core.frame.DataFrame'>\n",
      "RangeIndex: 299 entries, 0 to 298\n",
      "Data columns (total 13 columns):\n",
      " #   Column                    Non-Null Count  Dtype  \n",
      "---  ------                    --------------  -----  \n",
      " 0   age                       299 non-null    float64\n",
      " 1   anaemia                   299 non-null    int64  \n",
      " 2   creatinine_phosphokinase  299 non-null    int64  \n",
      " 3   diabetes                  299 non-null    int64  \n",
      " 4   ejection_fraction         299 non-null    int64  \n",
      " 5   high_blood_pressure       299 non-null    int64  \n",
      " 6   platelets                 299 non-null    float64\n",
      " 7   serum_creatinine          299 non-null    float64\n",
      " 8   serum_sodium              299 non-null    int64  \n",
      " 9   sex                       299 non-null    int64  \n",
      " 10  smoking                   299 non-null    int64  \n",
      " 11  time                      299 non-null    int64  \n",
      " 12  DEATH_EVENT               299 non-null    int64  \n",
      "dtypes: float64(3), int64(10)\n",
      "memory usage: 30.5 KB\n"
     ]
    }
   ],
   "source": [
    "#print all columns and their types\n",
    "data.info()"
   ]
  },
  {
   "cell_type": "code",
   "execution_count": 77,
   "metadata": {},
   "outputs": [
    {
     "name": "stdout",
     "output_type": "stream",
     "text": [
      "Classes and number of values in the dataset Counter({0: 203, 1: 96})\n"
     ]
    }
   ],
   "source": [
    "#print distribution of the 'DEATH EVENT' using collection.counter\n",
    "print('Classes and number of values in the dataset', Counter(data['DEATH_EVENT']))"
   ]
  },
  {
   "cell_type": "code",
   "execution_count": 78,
   "metadata": {},
   "outputs": [],
   "source": [
    "#extract the label column\n",
    "y = data['DEATH_EVENT']\n",
    "\n",
    "#extract the features columns\n",
    "x = data[['age','anaemia','creatinine_phosphokinase','diabetes','ejection_fraction','high_blood_pressure','platelets','serum_creatinine','serum_sodium','sex','smoking','time']]"
   ]
  },
  {
   "cell_type": "markdown",
   "metadata": {},
   "source": [
    "## 2. Preprocessing the Data"
   ]
  },
  {
   "cell_type": "code",
   "execution_count": 79,
   "metadata": {},
   "outputs": [],
   "source": [
    "#convert the categorical variables into one-hot encoding vectors\n",
    "x = pd.get_dummies(x)\n",
    "\n",
    "#split the data into train and test data\n",
    "x_train,x_test,y_train,y_test = train_test_split(x,y,test_size = 0.33, random_state = 42)\n",
    "\n",
    "#standardize the numeric data\n",
    "ct = ColumnTransformer([(\"numeric\",StandardScaler(),['age','creatinine_phosphokinase','ejection_fraction','platelets','serum_creatinine','serum_sodium','time'])])\n",
    "\n",
    "#train the scaler instance on the training and testdata\n",
    "x_train = ct.fit_transform(x_train)\n",
    "x_test = ct.fit_transform(x_test)"
   ]
  },
  {
   "cell_type": "markdown",
   "metadata": {},
   "source": [
    "## 3. Preparing labels for classification"
   ]
  },
  {
   "cell_type": "code",
   "execution_count": 80,
   "metadata": {},
   "outputs": [],
   "source": [
    "#initialize an instance of LabelEncoder\n",
    "le = LabelEncoder()\n",
    "\n",
    "#fit the encoder instance to the training and test labels\n",
    "y_train = le.fit_transform(y_train.astype(str))\n",
    "y_test = le.transform(y_test.astype(str))\n",
    "\n",
    "#transform the encoded training and test labels into a binary vector\n",
    "y_train = to_categorical(y_train)\n",
    "y_test = to_categorical(y_test)"
   ]
  },
  {
   "cell_type": "markdown",
   "metadata": {},
   "source": [
    "## 4. Designing the Model"
   ]
  },
  {
   "cell_type": "code",
   "execution_count": 81,
   "metadata": {},
   "outputs": [],
   "source": [
    "#create a model instance\n",
    "model = Sequential()\n",
    "\n",
    "#create an input layer and add it to the model\n",
    "model.add(InputLayer(input_shape= (x_train.shape[1],)))\n",
    "\n",
    "#create a hidden layer and add it to the model\n",
    "model.add(Dense(12,activation ='relu'))\n",
    "\n",
    "#create a output layer and add it to the model\n",
    "model.add(Dense(2,activation = 'softmax'))\n",
    "\n",
    "#compile the model\n",
    "model.compile(loss = 'categorical_crossentropy',optimizer = 'adam', metrics = ['accuracy'])"
   ]
  },
  {
   "cell_type": "markdown",
   "metadata": {},
   "source": [
    "## 5. Train and evaluate the model"
   ]
  },
  {
   "cell_type": "code",
   "execution_count": 87,
   "metadata": {
    "scrolled": false
   },
   "outputs": [
    {
     "name": "stdout",
     "output_type": "stream",
     "text": [
      "Epoch 1/100\n",
      "13/13 [==============================] - 0s 921us/step - loss: 0.2508 - accuracy: 0.8900\n",
      "Epoch 2/100\n",
      "13/13 [==============================] - 0s 755us/step - loss: 0.2500 - accuracy: 0.8900\n",
      "Epoch 3/100\n",
      "13/13 [==============================] - 0s 1ms/step - loss: 0.2489 - accuracy: 0.8900\n",
      "Epoch 4/100\n",
      "13/13 [==============================] - 0s 1ms/step - loss: 0.2484 - accuracy: 0.8900\n",
      "Epoch 5/100\n",
      "13/13 [==============================] - 0s 2ms/step - loss: 0.2473 - accuracy: 0.8900\n",
      "Epoch 6/100\n",
      "13/13 [==============================] - 0s 1ms/step - loss: 0.2462 - accuracy: 0.8900\n",
      "Epoch 7/100\n",
      "13/13 [==============================] - 0s 1ms/step - loss: 0.2452 - accuracy: 0.8900\n",
      "Epoch 8/100\n",
      "13/13 [==============================] - 0s 913us/step - loss: 0.2445 - accuracy: 0.8900\n",
      "Epoch 9/100\n",
      "13/13 [==============================] - 0s 818us/step - loss: 0.2435 - accuracy: 0.8900\n",
      "Epoch 10/100\n",
      "13/13 [==============================] - 0s 773us/step - loss: 0.2429 - accuracy: 0.8850\n",
      "Epoch 11/100\n",
      "13/13 [==============================] - 0s 823us/step - loss: 0.2419 - accuracy: 0.8850\n",
      "Epoch 12/100\n",
      "13/13 [==============================] - 0s 941us/step - loss: 0.2412 - accuracy: 0.8900\n",
      "Epoch 13/100\n",
      "13/13 [==============================] - 0s 749us/step - loss: 0.2411 - accuracy: 0.9000\n",
      "Epoch 14/100\n",
      "13/13 [==============================] - 0s 695us/step - loss: 0.2400 - accuracy: 0.9000\n",
      "Epoch 15/100\n",
      "13/13 [==============================] - 0s 812us/step - loss: 0.2396 - accuracy: 0.8950\n",
      "Epoch 16/100\n",
      "13/13 [==============================] - 0s 850us/step - loss: 0.2385 - accuracy: 0.8900\n",
      "Epoch 17/100\n",
      "13/13 [==============================] - 0s 782us/step - loss: 0.2374 - accuracy: 0.9000\n",
      "Epoch 18/100\n",
      "13/13 [==============================] - 0s 1ms/step - loss: 0.2361 - accuracy: 0.9000\n",
      "Epoch 19/100\n",
      "13/13 [==============================] - 0s 903us/step - loss: 0.2359 - accuracy: 0.9000\n",
      "Epoch 20/100\n",
      "13/13 [==============================] - 0s 977us/step - loss: 0.2354 - accuracy: 0.9000\n",
      "Epoch 21/100\n",
      "13/13 [==============================] - 0s 1ms/step - loss: 0.2341 - accuracy: 0.8900\n",
      "Epoch 22/100\n",
      "13/13 [==============================] - 0s 1ms/step - loss: 0.2336 - accuracy: 0.8900\n",
      "Epoch 23/100\n",
      "13/13 [==============================] - 0s 1ms/step - loss: 0.2331 - accuracy: 0.9000\n",
      "Epoch 24/100\n",
      "13/13 [==============================] - 0s 911us/step - loss: 0.2326 - accuracy: 0.9000\n",
      "Epoch 25/100\n",
      "13/13 [==============================] - 0s 867us/step - loss: 0.2313 - accuracy: 0.8950\n",
      "Epoch 26/100\n",
      "13/13 [==============================] - 0s 694us/step - loss: 0.2312 - accuracy: 0.8900\n",
      "Epoch 27/100\n",
      "13/13 [==============================] - 0s 763us/step - loss: 0.2304 - accuracy: 0.8900\n",
      "Epoch 28/100\n",
      "13/13 [==============================] - 0s 803us/step - loss: 0.2297 - accuracy: 0.8900\n",
      "Epoch 29/100\n",
      "13/13 [==============================] - 0s 700us/step - loss: 0.2291 - accuracy: 0.8950\n",
      "Epoch 30/100\n",
      "13/13 [==============================] - 0s 764us/step - loss: 0.2288 - accuracy: 0.8950\n",
      "Epoch 31/100\n",
      "13/13 [==============================] - 0s 852us/step - loss: 0.2281 - accuracy: 0.8950\n",
      "Epoch 32/100\n",
      "13/13 [==============================] - 0s 683us/step - loss: 0.2274 - accuracy: 0.8950\n",
      "Epoch 33/100\n",
      "13/13 [==============================] - 0s 792us/step - loss: 0.2270 - accuracy: 0.8950\n",
      "Epoch 34/100\n",
      "13/13 [==============================] - 0s 1ms/step - loss: 0.2264 - accuracy: 0.8950\n",
      "Epoch 35/100\n",
      "13/13 [==============================] - 0s 876us/step - loss: 0.2258 - accuracy: 0.8950\n",
      "Epoch 36/100\n",
      "13/13 [==============================] - 0s 684us/step - loss: 0.2256 - accuracy: 0.8950\n",
      "Epoch 37/100\n",
      "13/13 [==============================] - 0s 774us/step - loss: 0.2248 - accuracy: 0.8950\n",
      "Epoch 38/100\n",
      "13/13 [==============================] - 0s 822us/step - loss: 0.2241 - accuracy: 0.8950\n",
      "Epoch 39/100\n",
      "13/13 [==============================] - 0s 681us/step - loss: 0.2244 - accuracy: 0.8950\n",
      "Epoch 40/100\n",
      "13/13 [==============================] - 0s 745us/step - loss: 0.2229 - accuracy: 0.8950\n",
      "Epoch 41/100\n",
      "13/13 [==============================] - 0s 952us/step - loss: 0.2227 - accuracy: 0.8950\n",
      "Epoch 42/100\n",
      "13/13 [==============================] - 0s 818us/step - loss: 0.2226 - accuracy: 0.8950\n",
      "Epoch 43/100\n",
      "13/13 [==============================] - 0s 766us/step - loss: 0.2217 - accuracy: 0.8950\n",
      "Epoch 44/100\n",
      "13/13 [==============================] - 0s 869us/step - loss: 0.2212 - accuracy: 0.8950\n",
      "Epoch 45/100\n",
      "13/13 [==============================] - 0s 877us/step - loss: 0.2210 - accuracy: 0.8950\n",
      "Epoch 46/100\n",
      "13/13 [==============================] - 0s 690us/step - loss: 0.2201 - accuracy: 0.8950\n",
      "Epoch 47/100\n",
      "13/13 [==============================] - 0s 772us/step - loss: 0.2194 - accuracy: 0.8950\n",
      "Epoch 48/100\n",
      "13/13 [==============================] - 0s 848us/step - loss: 0.2190 - accuracy: 0.8950\n",
      "Epoch 49/100\n",
      "13/13 [==============================] - 0s 959us/step - loss: 0.2183 - accuracy: 0.9000\n",
      "Epoch 50/100\n",
      "13/13 [==============================] - 0s 749us/step - loss: 0.2178 - accuracy: 0.9000\n",
      "Epoch 51/100\n",
      "13/13 [==============================] - 0s 777us/step - loss: 0.2169 - accuracy: 0.9050\n",
      "Epoch 52/100\n",
      "13/13 [==============================] - 0s 852us/step - loss: 0.2164 - accuracy: 0.9050\n",
      "Epoch 53/100\n",
      "13/13 [==============================] - 0s 751us/step - loss: 0.2159 - accuracy: 0.9050\n",
      "Epoch 54/100\n",
      "13/13 [==============================] - 0s 701us/step - loss: 0.2157 - accuracy: 0.9100\n",
      "Epoch 55/100\n",
      "13/13 [==============================] - 0s 827us/step - loss: 0.2148 - accuracy: 0.9050\n",
      "Epoch 56/100\n",
      "13/13 [==============================] - 0s 786us/step - loss: 0.2150 - accuracy: 0.9050\n",
      "Epoch 57/100\n",
      "13/13 [==============================] - 0s 727us/step - loss: 0.2140 - accuracy: 0.9100\n",
      "Epoch 58/100\n",
      "13/13 [==============================] - 0s 797us/step - loss: 0.2131 - accuracy: 0.9100\n",
      "Epoch 59/100\n",
      "13/13 [==============================] - 0s 820us/step - loss: 0.2128 - accuracy: 0.9100\n",
      "Epoch 60/100\n",
      "13/13 [==============================] - 0s 667us/step - loss: 0.2123 - accuracy: 0.9100\n",
      "Epoch 61/100\n",
      "13/13 [==============================] - 0s 802us/step - loss: 0.2114 - accuracy: 0.9100\n",
      "Epoch 62/100\n",
      "13/13 [==============================] - 0s 831us/step - loss: 0.2112 - accuracy: 0.9100\n",
      "Epoch 63/100\n",
      "13/13 [==============================] - 0s 651us/step - loss: 0.2108 - accuracy: 0.9100\n",
      "Epoch 64/100\n",
      "13/13 [==============================] - 0s 814us/step - loss: 0.2103 - accuracy: 0.9050\n",
      "Epoch 65/100\n",
      "13/13 [==============================] - 0s 793us/step - loss: 0.2098 - accuracy: 0.9050\n",
      "Epoch 66/100\n",
      "13/13 [==============================] - 0s 754us/step - loss: 0.2089 - accuracy: 0.9100\n",
      "Epoch 67/100\n",
      "13/13 [==============================] - 0s 704us/step - loss: 0.2087 - accuracy: 0.9100\n",
      "Epoch 68/100\n",
      "13/13 [==============================] - 0s 805us/step - loss: 0.2085 - accuracy: 0.9100\n",
      "Epoch 69/100\n",
      "13/13 [==============================] - 0s 710us/step - loss: 0.2079 - accuracy: 0.9100\n",
      "Epoch 70/100\n",
      "13/13 [==============================] - 0s 714us/step - loss: 0.2072 - accuracy: 0.9100\n",
      "Epoch 71/100\n",
      "13/13 [==============================] - 0s 825us/step - loss: 0.2070 - accuracy: 0.9050\n",
      "Epoch 72/100\n",
      "13/13 [==============================] - 0s 798us/step - loss: 0.2068 - accuracy: 0.9050\n",
      "Epoch 73/100\n",
      "13/13 [==============================] - 0s 706us/step - loss: 0.2060 - accuracy: 0.9050\n",
      "Epoch 74/100\n",
      "13/13 [==============================] - 0s 779us/step - loss: 0.2057 - accuracy: 0.9050\n",
      "Epoch 75/100\n",
      "13/13 [==============================] - 0s 897us/step - loss: 0.2054 - accuracy: 0.9050\n",
      "Epoch 76/100\n",
      "13/13 [==============================] - 0s 677us/step - loss: 0.2046 - accuracy: 0.9050\n",
      "Epoch 77/100\n",
      "13/13 [==============================] - 0s 795us/step - loss: 0.2043 - accuracy: 0.9050\n",
      "Epoch 78/100\n",
      "13/13 [==============================] - 0s 824us/step - loss: 0.2042 - accuracy: 0.9050\n",
      "Epoch 79/100\n",
      "13/13 [==============================] - 0s 922us/step - loss: 0.2034 - accuracy: 0.9100\n",
      "Epoch 80/100\n",
      "13/13 [==============================] - 0s 927us/step - loss: 0.2031 - accuracy: 0.9050\n",
      "Epoch 81/100\n"
     ]
    },
    {
     "name": "stdout",
     "output_type": "stream",
     "text": [
      "13/13 [==============================] - 0s 846us/step - loss: 0.2027 - accuracy: 0.9100\n",
      "Epoch 82/100\n",
      "13/13 [==============================] - 0s 748us/step - loss: 0.2025 - accuracy: 0.9150\n",
      "Epoch 83/100\n",
      "13/13 [==============================] - 0s 934us/step - loss: 0.2014 - accuracy: 0.9100\n",
      "Epoch 84/100\n",
      "13/13 [==============================] - 0s 842us/step - loss: 0.2012 - accuracy: 0.9100\n",
      "Epoch 85/100\n",
      "13/13 [==============================] - 0s 772us/step - loss: 0.2013 - accuracy: 0.9000\n",
      "Epoch 86/100\n",
      "13/13 [==============================] - 0s 778us/step - loss: 0.2008 - accuracy: 0.9150\n",
      "Epoch 87/100\n",
      "13/13 [==============================] - 0s 759us/step - loss: 0.2011 - accuracy: 0.9100\n",
      "Epoch 88/100\n",
      "13/13 [==============================] - 0s 682us/step - loss: 0.2000 - accuracy: 0.9100\n",
      "Epoch 89/100\n",
      "13/13 [==============================] - 0s 770us/step - loss: 0.1998 - accuracy: 0.9150\n",
      "Epoch 90/100\n",
      "13/13 [==============================] - 0s 745us/step - loss: 0.1986 - accuracy: 0.9150\n",
      "Epoch 91/100\n",
      "13/13 [==============================] - 0s 705us/step - loss: 0.1986 - accuracy: 0.9150\n",
      "Epoch 92/100\n",
      "13/13 [==============================] - 0s 753us/step - loss: 0.1987 - accuracy: 0.9100\n",
      "Epoch 93/100\n",
      "13/13 [==============================] - 0s 863us/step - loss: 0.1978 - accuracy: 0.9150\n",
      "Epoch 94/100\n",
      "13/13 [==============================] - 0s 680us/step - loss: 0.1968 - accuracy: 0.9100\n",
      "Epoch 95/100\n",
      "13/13 [==============================] - 0s 788us/step - loss: 0.1966 - accuracy: 0.9100\n",
      "Epoch 96/100\n",
      "13/13 [==============================] - 0s 793us/step - loss: 0.1968 - accuracy: 0.9150\n",
      "Epoch 97/100\n",
      "13/13 [==============================] - 0s 857us/step - loss: 0.1962 - accuracy: 0.9150\n",
      "Epoch 98/100\n",
      "13/13 [==============================] - 0s 738us/step - loss: 0.1958 - accuracy: 0.9150\n",
      "Epoch 99/100\n",
      "13/13 [==============================] - 0s 818us/step - loss: 0.1950 - accuracy: 0.9150\n",
      "Epoch 100/100\n",
      "13/13 [==============================] - 0s 838us/step - loss: 0.1951 - accuracy: 0.9150\n"
     ]
    },
    {
     "data": {
      "text/plain": [
       "<tensorflow.python.keras.callbacks.History at 0x7fc7607b3a60>"
      ]
     },
     "execution_count": 87,
     "metadata": {},
     "output_type": "execute_result"
    }
   ],
   "source": [
    "model.fit(x_train,y_train,epochs = 100, batch_size = 16,verbose =1)"
   ]
  },
  {
   "cell_type": "code",
   "execution_count": 88,
   "metadata": {},
   "outputs": [
    {
     "name": "stdout",
     "output_type": "stream",
     "text": [
      "Loss:  0.7128374576568604 Accuracy:  0.747474730014801\n"
     ]
    }
   ],
   "source": [
    "#evaluate the model\n",
    "loss , accu = model.evaluate(x_test,y_test,verbose=0)\n",
    "print('Loss: ' , loss, 'Accuracy: ',accu)"
   ]
  },
  {
   "cell_type": "markdown",
   "metadata": {},
   "source": [
    "## 6. Generating a Classification Report "
   ]
  },
  {
   "cell_type": "code",
   "execution_count": 99,
   "metadata": {},
   "outputs": [
    {
     "data": {
      "text/plain": [
       "array([0, 0, 0, 1, 0, 0, 1, 0, 1, 0, 0, 0, 0, 0, 0, 0, 0, 0, 0, 0, 0, 0,\n",
       "       0, 0, 1, 0, 0, 0, 0, 0, 1, 0, 0, 1, 1, 0, 0, 0, 0, 0, 0, 1, 0, 0,\n",
       "       0, 0, 0, 0, 0, 0, 0, 0, 0, 0, 0, 0, 0, 1, 0, 1, 1, 0, 0, 0, 1, 1,\n",
       "       0, 1, 0, 0, 0, 0, 0, 0, 0, 0, 0, 0, 0, 0, 0, 1, 0, 0, 0, 0, 1, 1,\n",
       "       1, 0, 0, 0, 0, 0, 1, 0, 0, 0, 0])"
      ]
     },
     "execution_count": 99,
     "metadata": {},
     "output_type": "execute_result"
    }
   ],
   "source": [
    "#predict for the test data\n",
    "y_estimate = model.predict(x_test,verbose=0)\n",
    "y_estimate = np.argmax(y_estimate,axis=1)\n",
    "y_estimate"
   ]
  },
  {
   "cell_type": "code",
   "execution_count": 96,
   "metadata": {},
   "outputs": [
    {
     "data": {
      "text/plain": [
       "array([0, 0, 1, 1, 0, 0, 1, 0, 1, 0, 0, 1, 1, 0, 0, 1, 0, 0, 1, 1, 0, 0,\n",
       "       0, 1, 1, 0, 0, 0, 1, 0, 1, 0, 0, 1, 1, 1, 1, 1, 0, 0, 1, 1, 0, 0,\n",
       "       0, 0, 0, 0, 0, 0, 1, 1, 1, 0, 0, 0, 0, 1, 0, 1, 1, 1, 1, 0, 1, 1,\n",
       "       0, 0, 0, 0, 1, 0, 0, 0, 0, 0, 0, 1, 0, 0, 1, 1, 0, 0, 0, 0, 1, 1,\n",
       "       1, 0, 0, 1, 0, 1, 1, 1, 0, 0, 1])"
      ]
     },
     "execution_count": 96,
     "metadata": {},
     "output_type": "execute_result"
    }
   ],
   "source": [
    "#select the indices of the true classes for each label encoding \n",
    "y_true = np.argmax(y_test,axis =1)\n",
    "y_true"
   ]
  },
  {
   "cell_type": "code",
   "execution_count": 100,
   "metadata": {},
   "outputs": [
    {
     "name": "stdout",
     "output_type": "stream",
     "text": [
      "              precision    recall  f1-score   support\n",
      "\n",
      "           0       0.70      0.98      0.82        57\n",
      "           1       0.95      0.43      0.59        42\n",
      "\n",
      "    accuracy                           0.75        99\n",
      "   macro avg       0.82      0.71      0.70        99\n",
      "weighted avg       0.80      0.75      0.72        99\n",
      "\n"
     ]
    }
   ],
   "source": [
    "#print a classification report\n",
    "print(classification_report(y_true,y_estimate))"
   ]
  },
  {
   "cell_type": "code",
   "execution_count": null,
   "metadata": {},
   "outputs": [],
   "source": []
  }
 ],
 "metadata": {
  "kernelspec": {
   "display_name": "Python 3",
   "language": "python",
   "name": "python3"
  },
  "language_info": {
   "codemirror_mode": {
    "name": "ipython",
    "version": 3
   },
   "file_extension": ".py",
   "mimetype": "text/x-python",
   "name": "python",
   "nbconvert_exporter": "python",
   "pygments_lexer": "ipython3",
   "version": "3.8.5"
  }
 },
 "nbformat": 4,
 "nbformat_minor": 4
}
