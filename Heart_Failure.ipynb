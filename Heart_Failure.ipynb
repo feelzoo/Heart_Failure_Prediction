{
 "cells": [
  {
   "cell_type": "markdown",
   "metadata": {},
   "source": [
    "# Heart Failure Prediction"
   ]
  },
  {
   "cell_type": "markdown",
   "metadata": {},
   "source": [
    "Cardiovascular diseases (CVDs) are the number 1 cause of death globally, taking an estimated 17.9 million lives each year, which accounts for 31% of all deaths worldwide. Heart failure is a common event caused by CVDs.\n",
    "\n",
    "In this project, I will develop a model that can be used to predict mortality by heart failure based on 12 health-related features. The dataset is obtained from [Kaggle](https://www.kaggle.com/andrewmvd/heart-failure-clinical-data). "
   ]
  },
  {
   "cell_type": "code",
   "execution_count": 53,
   "metadata": {},
   "outputs": [],
   "source": [
    "import numpy as np\n",
    "import pandas as pd\n",
    "from matplotlib import pyplot as plt\n",
    "import seaborn as sns\n",
    "from collections import Counter\n",
    "from sklearn.model_selection import train_test_split\n",
    "from sklearn.preprocessing import StandardScaler, LabelEncoder\n",
    "from sklearn.compose import ColumnTransformer\n",
    "from tensorflow.keras.utils import to_categorical\n",
    "from tensorflow.keras import Sequential\n",
    "from tensorflow.keras.layers import InputLayer\n",
    "from tensorflow.keras.layers import Dense\n",
    "from sklearn.metrics import classification_report"
   ]
  },
  {
   "cell_type": "markdown",
   "metadata": {},
   "source": [
    "## 1. Loading the Data"
   ]
  },
  {
   "cell_type": "code",
   "execution_count": 22,
   "metadata": {},
   "outputs": [],
   "source": [
    "data = pd.read_csv('heart_failure.csv')"
   ]
  },
  {
   "cell_type": "code",
   "execution_count": 23,
   "metadata": {},
   "outputs": [
    {
     "name": "stdout",
     "output_type": "stream",
     "text": [
      "<class 'pandas.core.frame.DataFrame'>\n",
      "RangeIndex: 299 entries, 0 to 298\n",
      "Data columns (total 13 columns):\n",
      " #   Column                    Non-Null Count  Dtype  \n",
      "---  ------                    --------------  -----  \n",
      " 0   age                       299 non-null    float64\n",
      " 1   anaemia                   299 non-null    int64  \n",
      " 2   creatinine_phosphokinase  299 non-null    int64  \n",
      " 3   diabetes                  299 non-null    int64  \n",
      " 4   ejection_fraction         299 non-null    int64  \n",
      " 5   high_blood_pressure       299 non-null    int64  \n",
      " 6   platelets                 299 non-null    float64\n",
      " 7   serum_creatinine          299 non-null    float64\n",
      " 8   serum_sodium              299 non-null    int64  \n",
      " 9   sex                       299 non-null    int64  \n",
      " 10  smoking                   299 non-null    int64  \n",
      " 11  time                      299 non-null    int64  \n",
      " 12  DEATH_EVENT               299 non-null    int64  \n",
      "dtypes: float64(3), int64(10)\n",
      "memory usage: 30.5 KB\n"
     ]
    }
   ],
   "source": [
    "#print all columns and their types\n",
    "data.info()"
   ]
  },
  {
   "cell_type": "code",
   "execution_count": 24,
   "metadata": {},
   "outputs": [
    {
     "name": "stdout",
     "output_type": "stream",
     "text": [
      "Classes and number of values in the dataset Counter({0: 203, 1: 96})\n"
     ]
    }
   ],
   "source": [
    "#print distribution of the 'DEATH EVENT' using collection.counter\n",
    "print('Classes and number of values in the dataset', Counter(data['DEATH_EVENT']))"
   ]
  },
  {
   "cell_type": "code",
   "execution_count": 25,
   "metadata": {},
   "outputs": [],
   "source": [
    "#extract the label column\n",
    "y = data['DEATH_EVENT']\n",
    "\n",
    "#extract the features columns\n",
    "x = data[['age','anaemia','creatinine_phosphokinase','diabetes','ejection_fraction','high_blood_pressure','platelets','serum_creatinine','serum_sodium','sex','smoking','time']]"
   ]
  },
  {
   "cell_type": "markdown",
   "metadata": {},
   "source": [
    "## 2. Preprocessing the Data"
   ]
  },
  {
   "cell_type": "code",
   "execution_count": 26,
   "metadata": {},
   "outputs": [],
   "source": [
    "#convert the categorical variables into one-hot encoding vectors\n",
    "x = pd.get_dummies(x)\n",
    "\n",
    "#split the data into train and test data\n",
    "x_train,x_test,y_train,y_test = train_test_split(x,y,test_size = 0.33, random_state = 42)\n",
    "\n",
    "#standardize the numeric data\n",
    "ct = ColumnTransformer([(\"numeric\",StandardScaler(),['age','creatinine_phosphokinase','ejection_fraction','platelets','serum_creatinine','serum_sodium','time'])])\n",
    "\n",
    "#train the scaler instance on the training and testdata\n",
    "x_train = ct.fit_transform(x_train)\n",
    "x_test = ct.fit_transform(x_test)"
   ]
  },
  {
   "cell_type": "markdown",
   "metadata": {},
   "source": [
    "## 3. Preparing labels for classification"
   ]
  },
  {
   "cell_type": "code",
   "execution_count": 27,
   "metadata": {},
   "outputs": [],
   "source": [
    "#initialize an instance of LabelEncoder\n",
    "le = LabelEncoder()\n",
    "\n",
    "#fit the encoder instance to the training and test labels\n",
    "y_train = le.fit_transform(y_train.astype(str))\n",
    "y_test = le.transform(y_test.astype(str))\n",
    "\n",
    "#transform the encoded training and test labels into a binary vector\n",
    "y_train = to_categorical(y_train)\n",
    "y_test = to_categorical(y_test)"
   ]
  },
  {
   "cell_type": "markdown",
   "metadata": {},
   "source": [
    "## 4. Designing the Model"
   ]
  },
  {
   "cell_type": "code",
   "execution_count": 47,
   "metadata": {},
   "outputs": [],
   "source": [
    "#create a model instance\n",
    "model = Sequential()\n",
    "\n",
    "#create an input layer and add it to the model\n",
    "model.add(InputLayer(input_shape= (x_train.shape[1],)))\n",
    "\n",
    "#create a hidden layer and add it to the model\n",
    "model.add(Dense(12,activation ='relu'))\n",
    "\n",
    "#create a output layer and add it to the model\n",
    "model.add(Dense(2,activation = 'softmax'))\n",
    "\n",
    "#compile the model\n",
    "model.compile(loss = 'categorical_crossentropy',optimizer = 'adam', metrics = ['accuracy'])"
   ]
  },
  {
   "cell_type": "markdown",
   "metadata": {},
   "source": [
    "## 5. Train and evaluate the model"
   ]
  },
  {
   "cell_type": "code",
   "execution_count": 48,
   "metadata": {
    "scrolled": false
   },
   "outputs": [
    {
     "name": "stdout",
     "output_type": "stream",
     "text": [
      "Epoch 1/100\n",
      "13/13 [==============================] - 0s 908us/step - loss: 0.7257 - accuracy: 0.7000\n",
      "Epoch 2/100\n",
      "13/13 [==============================] - 0s 1ms/step - loss: 0.7022 - accuracy: 0.7250\n",
      "Epoch 3/100\n",
      "13/13 [==============================] - 0s 1ms/step - loss: 0.6822 - accuracy: 0.7350\n",
      "Epoch 4/100\n",
      "13/13 [==============================] - 0s 1ms/step - loss: 0.6649 - accuracy: 0.7350\n",
      "Epoch 5/100\n",
      "13/13 [==============================] - 0s 997us/step - loss: 0.6492 - accuracy: 0.7350\n",
      "Epoch 6/100\n",
      "13/13 [==============================] - 0s 1ms/step - loss: 0.6345 - accuracy: 0.7350\n",
      "Epoch 7/100\n",
      "13/13 [==============================] - 0s 995us/step - loss: 0.6214 - accuracy: 0.7400\n",
      "Epoch 8/100\n",
      "13/13 [==============================] - 0s 1ms/step - loss: 0.6084 - accuracy: 0.7400\n",
      "Epoch 9/100\n",
      "13/13 [==============================] - 0s 1ms/step - loss: 0.5951 - accuracy: 0.7400\n",
      "Epoch 10/100\n",
      "13/13 [==============================] - 0s 1ms/step - loss: 0.5835 - accuracy: 0.7400\n",
      "Epoch 11/100\n",
      "13/13 [==============================] - 0s 1ms/step - loss: 0.5731 - accuracy: 0.7400\n",
      "Epoch 12/100\n",
      "13/13 [==============================] - 0s 752us/step - loss: 0.5601 - accuracy: 0.7400\n",
      "Epoch 13/100\n",
      "13/13 [==============================] - 0s 711us/step - loss: 0.5492 - accuracy: 0.7400\n",
      "Epoch 14/100\n",
      "13/13 [==============================] - 0s 813us/step - loss: 0.5378 - accuracy: 0.7400\n",
      "Epoch 15/100\n",
      "13/13 [==============================] - 0s 786us/step - loss: 0.5275 - accuracy: 0.7500\n",
      "Epoch 16/100\n",
      "13/13 [==============================] - 0s 655us/step - loss: 0.5167 - accuracy: 0.7600\n",
      "Epoch 17/100\n",
      "13/13 [==============================] - 0s 763us/step - loss: 0.5059 - accuracy: 0.7650\n",
      "Epoch 18/100\n",
      "13/13 [==============================] - 0s 773us/step - loss: 0.4949 - accuracy: 0.7650\n",
      "Epoch 19/100\n",
      "13/13 [==============================] - 0s 717us/step - loss: 0.4848 - accuracy: 0.7650\n",
      "Epoch 20/100\n",
      "13/13 [==============================] - 0s 748us/step - loss: 0.4743 - accuracy: 0.7750\n",
      "Epoch 21/100\n",
      "13/13 [==============================] - 0s 757us/step - loss: 0.4649 - accuracy: 0.7650\n",
      "Epoch 22/100\n",
      "13/13 [==============================] - 0s 680us/step - loss: 0.4553 - accuracy: 0.7750\n",
      "Epoch 23/100\n",
      "13/13 [==============================] - 0s 782us/step - loss: 0.4459 - accuracy: 0.7850\n",
      "Epoch 24/100\n",
      "13/13 [==============================] - 0s 782us/step - loss: 0.4371 - accuracy: 0.7850\n",
      "Epoch 25/100\n",
      "13/13 [==============================] - 0s 701us/step - loss: 0.4285 - accuracy: 0.7900\n",
      "Epoch 26/100\n",
      "13/13 [==============================] - 0s 749us/step - loss: 0.4210 - accuracy: 0.7950\n",
      "Epoch 27/100\n",
      "13/13 [==============================] - 0s 760us/step - loss: 0.4126 - accuracy: 0.8100\n",
      "Epoch 28/100\n",
      "13/13 [==============================] - 0s 718us/step - loss: 0.4056 - accuracy: 0.8100\n",
      "Epoch 29/100\n",
      "13/13 [==============================] - 0s 719us/step - loss: 0.3980 - accuracy: 0.8100\n",
      "Epoch 30/100\n",
      "13/13 [==============================] - 0s 761us/step - loss: 0.3919 - accuracy: 0.8300\n",
      "Epoch 31/100\n",
      "13/13 [==============================] - 0s 768us/step - loss: 0.3850 - accuracy: 0.8250\n",
      "Epoch 32/100\n",
      "13/13 [==============================] - 0s 764us/step - loss: 0.3795 - accuracy: 0.8200\n",
      "Epoch 33/100\n",
      "13/13 [==============================] - 0s 824us/step - loss: 0.3734 - accuracy: 0.8400\n",
      "Epoch 34/100\n",
      "13/13 [==============================] - 0s 711us/step - loss: 0.3685 - accuracy: 0.8400\n",
      "Epoch 35/100\n",
      "13/13 [==============================] - 0s 710us/step - loss: 0.3631 - accuracy: 0.8450\n",
      "Epoch 36/100\n",
      "13/13 [==============================] - 0s 776us/step - loss: 0.3583 - accuracy: 0.8500\n",
      "Epoch 37/100\n",
      "13/13 [==============================] - 0s 735us/step - loss: 0.3538 - accuracy: 0.8550\n",
      "Epoch 38/100\n",
      "13/13 [==============================] - 0s 814us/step - loss: 0.3494 - accuracy: 0.8550\n",
      "Epoch 39/100\n",
      "13/13 [==============================] - 0s 792us/step - loss: 0.3452 - accuracy: 0.8550\n",
      "Epoch 40/100\n",
      "13/13 [==============================] - 0s 730us/step - loss: 0.3412 - accuracy: 0.8550\n",
      "Epoch 41/100\n",
      "13/13 [==============================] - 0s 738us/step - loss: 0.3371 - accuracy: 0.8550\n",
      "Epoch 42/100\n",
      "13/13 [==============================] - 0s 784us/step - loss: 0.3337 - accuracy: 0.8550\n",
      "Epoch 43/100\n",
      "13/13 [==============================] - 0s 745us/step - loss: 0.3306 - accuracy: 0.8600\n",
      "Epoch 44/100\n",
      "13/13 [==============================] - 0s 687us/step - loss: 0.3276 - accuracy: 0.8600\n",
      "Epoch 45/100\n",
      "13/13 [==============================] - 0s 802us/step - loss: 0.3241 - accuracy: 0.8600\n",
      "Epoch 46/100\n",
      "13/13 [==============================] - 0s 777us/step - loss: 0.3215 - accuracy: 0.8650\n",
      "Epoch 47/100\n",
      "13/13 [==============================] - 0s 673us/step - loss: 0.3187 - accuracy: 0.8600\n",
      "Epoch 48/100\n",
      "13/13 [==============================] - 0s 783us/step - loss: 0.3159 - accuracy: 0.8600\n",
      "Epoch 49/100\n",
      "13/13 [==============================] - 0s 747us/step - loss: 0.3132 - accuracy: 0.8600\n",
      "Epoch 50/100\n",
      "13/13 [==============================] - 0s 675us/step - loss: 0.3105 - accuracy: 0.8600\n",
      "Epoch 51/100\n",
      "13/13 [==============================] - 0s 745us/step - loss: 0.3081 - accuracy: 0.8600\n",
      "Epoch 52/100\n",
      "13/13 [==============================] - 0s 756us/step - loss: 0.3054 - accuracy: 0.8600\n",
      "Epoch 53/100\n",
      "13/13 [==============================] - 0s 710us/step - loss: 0.3029 - accuracy: 0.8650\n",
      "Epoch 54/100\n",
      "13/13 [==============================] - 0s 766us/step - loss: 0.3005 - accuracy: 0.8650\n",
      "Epoch 55/100\n",
      "13/13 [==============================] - 0s 764us/step - loss: 0.2983 - accuracy: 0.8650\n",
      "Epoch 56/100\n",
      "13/13 [==============================] - 0s 771us/step - loss: 0.2963 - accuracy: 0.8650\n",
      "Epoch 57/100\n",
      "13/13 [==============================] - 0s 827us/step - loss: 0.2944 - accuracy: 0.8650\n",
      "Epoch 58/100\n",
      "13/13 [==============================] - 0s 817us/step - loss: 0.2922 - accuracy: 0.8750\n",
      "Epoch 59/100\n",
      "13/13 [==============================] - 0s 757us/step - loss: 0.2904 - accuracy: 0.8750\n",
      "Epoch 60/100\n",
      "13/13 [==============================] - 0s 724us/step - loss: 0.2897 - accuracy: 0.8750\n",
      "Epoch 61/100\n",
      "13/13 [==============================] - 0s 782us/step - loss: 0.2872 - accuracy: 0.8750\n",
      "Epoch 62/100\n",
      "13/13 [==============================] - 0s 732us/step - loss: 0.2855 - accuracy: 0.8800\n",
      "Epoch 63/100\n",
      "13/13 [==============================] - 0s 727us/step - loss: 0.2839 - accuracy: 0.8800\n",
      "Epoch 64/100\n",
      "13/13 [==============================] - 0s 773us/step - loss: 0.2826 - accuracy: 0.8750\n",
      "Epoch 65/100\n",
      "13/13 [==============================] - 0s 732us/step - loss: 0.2813 - accuracy: 0.8750\n",
      "Epoch 66/100\n",
      "13/13 [==============================] - 0s 727us/step - loss: 0.2799 - accuracy: 0.8750\n",
      "Epoch 67/100\n",
      "13/13 [==============================] - 0s 762us/step - loss: 0.2785 - accuracy: 0.8750\n",
      "Epoch 68/100\n",
      "13/13 [==============================] - 0s 756us/step - loss: 0.2776 - accuracy: 0.8750\n",
      "Epoch 69/100\n",
      "13/13 [==============================] - 0s 724us/step - loss: 0.2761 - accuracy: 0.8750\n",
      "Epoch 70/100\n",
      "13/13 [==============================] - 0s 763us/step - loss: 0.2748 - accuracy: 0.8750\n",
      "Epoch 71/100\n",
      "13/13 [==============================] - 0s 776us/step - loss: 0.2741 - accuracy: 0.8750\n",
      "Epoch 72/100\n",
      "13/13 [==============================] - 0s 708us/step - loss: 0.2728 - accuracy: 0.8750\n",
      "Epoch 73/100\n",
      "13/13 [==============================] - 0s 770us/step - loss: 0.2719 - accuracy: 0.8750\n",
      "Epoch 74/100\n",
      "13/13 [==============================] - 0s 761us/step - loss: 0.2710 - accuracy: 0.8750\n",
      "Epoch 75/100\n",
      "13/13 [==============================] - 0s 723us/step - loss: 0.2699 - accuracy: 0.8750\n",
      "Epoch 76/100\n",
      "13/13 [==============================] - 0s 791us/step - loss: 0.2690 - accuracy: 0.8750\n",
      "Epoch 77/100\n",
      "13/13 [==============================] - 0s 739us/step - loss: 0.2679 - accuracy: 0.8750\n",
      "Epoch 78/100\n",
      "13/13 [==============================] - 0s 718us/step - loss: 0.2668 - accuracy: 0.8700\n",
      "Epoch 79/100\n",
      "13/13 [==============================] - 0s 799us/step - loss: 0.2657 - accuracy: 0.8700\n",
      "Epoch 80/100\n",
      "13/13 [==============================] - 0s 760us/step - loss: 0.2649 - accuracy: 0.8750\n",
      "Epoch 81/100\n"
     ]
    },
    {
     "name": "stdout",
     "output_type": "stream",
     "text": [
      "13/13 [==============================] - 0s 707us/step - loss: 0.2642 - accuracy: 0.8750\n",
      "Epoch 82/100\n",
      "13/13 [==============================] - 0s 759us/step - loss: 0.2630 - accuracy: 0.8750\n",
      "Epoch 83/100\n",
      "13/13 [==============================] - 0s 772us/step - loss: 0.2623 - accuracy: 0.8750\n",
      "Epoch 84/100\n",
      "13/13 [==============================] - 0s 681us/step - loss: 0.2615 - accuracy: 0.8750\n",
      "Epoch 85/100\n",
      "13/13 [==============================] - 0s 771us/step - loss: 0.2604 - accuracy: 0.8750\n",
      "Epoch 86/100\n",
      "13/13 [==============================] - 0s 748us/step - loss: 0.2599 - accuracy: 0.8750\n",
      "Epoch 87/100\n",
      "13/13 [==============================] - 0s 659us/step - loss: 0.2590 - accuracy: 0.8700\n",
      "Epoch 88/100\n",
      "13/13 [==============================] - 0s 752us/step - loss: 0.2580 - accuracy: 0.8750\n",
      "Epoch 89/100\n",
      "13/13 [==============================] - 0s 790us/step - loss: 0.2571 - accuracy: 0.8700\n",
      "Epoch 90/100\n",
      "13/13 [==============================] - 0s 774us/step - loss: 0.2564 - accuracy: 0.8700\n",
      "Epoch 91/100\n",
      "13/13 [==============================] - 0s 744us/step - loss: 0.2555 - accuracy: 0.8750\n",
      "Epoch 92/100\n",
      "13/13 [==============================] - 0s 755us/step - loss: 0.2549 - accuracy: 0.8750\n",
      "Epoch 93/100\n",
      "13/13 [==============================] - 0s 703us/step - loss: 0.2541 - accuracy: 0.8750\n",
      "Epoch 94/100\n",
      "13/13 [==============================] - 0s 760us/step - loss: 0.2533 - accuracy: 0.8750\n",
      "Epoch 95/100\n",
      "13/13 [==============================] - 0s 746us/step - loss: 0.2526 - accuracy: 0.8750\n",
      "Epoch 96/100\n",
      "13/13 [==============================] - 0s 701us/step - loss: 0.2518 - accuracy: 0.8750\n",
      "Epoch 97/100\n",
      "13/13 [==============================] - 0s 749us/step - loss: 0.2511 - accuracy: 0.8750\n",
      "Epoch 98/100\n",
      "13/13 [==============================] - 0s 784us/step - loss: 0.2506 - accuracy: 0.8750\n",
      "Epoch 99/100\n",
      "13/13 [==============================] - 0s 705us/step - loss: 0.2498 - accuracy: 0.8750\n",
      "Epoch 100/100\n",
      "13/13 [==============================] - 0s 729us/step - loss: 0.2490 - accuracy: 0.8800\n"
     ]
    },
    {
     "data": {
      "text/plain": [
       "<tensorflow.python.keras.callbacks.History at 0x7fc75fdb1bb0>"
      ]
     },
     "execution_count": 48,
     "metadata": {},
     "output_type": "execute_result"
    }
   ],
   "source": [
    "model.fit(x_train,y_train,epochs = 100, batch_size = 16,verbose =1)"
   ]
  },
  {
   "cell_type": "code",
   "execution_count": 51,
   "metadata": {},
   "outputs": [
    {
     "name": "stdout",
     "output_type": "stream",
     "text": [
      "Loss:  0.5971583127975464 Accuracy:  0.7575757503509521\n"
     ]
    }
   ],
   "source": [
    "#evaluate the model\n",
    "loss , accu = model.evaluate(x_test,y_test,verbose=0)\n",
    "print('Loss: ' , loss, 'Accuracy: ',accu)"
   ]
  },
  {
   "cell_type": "markdown",
   "metadata": {},
   "source": [
    "## 6. Generating a Classification Report "
   ]
  },
  {
   "cell_type": "code",
   "execution_count": 62,
   "metadata": {},
   "outputs": [
    {
     "data": {
      "text/plain": [
       "array([[6.77040279e-01, 3.22959721e-01],\n",
       "       [9.99863863e-01, 1.36083690e-04],\n",
       "       [9.01164353e-01, 9.88356397e-02],\n",
       "       [1.24361210e-01, 8.75638783e-01],\n",
       "       [9.82932448e-01, 1.70675907e-02],\n",
       "       [9.98566687e-01, 1.43330148e-03],\n",
       "       [3.47249478e-01, 6.52750552e-01],\n",
       "       [9.30057168e-01, 6.99427649e-02],\n",
       "       [1.19142003e-01, 8.80858004e-01],\n",
       "       [9.87243176e-01, 1.27568459e-02],\n",
       "       [9.50004280e-01, 4.99956757e-02],\n",
       "       [9.46313143e-01, 5.36868982e-02],\n",
       "       [9.63024080e-01, 3.69758718e-02],\n",
       "       [9.63236690e-01, 3.67632844e-02],\n",
       "       [8.66636872e-01, 1.33363113e-01],\n",
       "       [7.05428958e-01, 2.94571012e-01],\n",
       "       [9.44984317e-01, 5.50157018e-02],\n",
       "       [6.95940614e-01, 3.04059386e-01],\n",
       "       [9.40160334e-01, 5.98396398e-02],\n",
       "       [5.71161807e-01, 4.28838223e-01],\n",
       "       [7.74347842e-01, 2.25652143e-01],\n",
       "       [6.33207738e-01, 3.66792291e-01],\n",
       "       [7.08959460e-01, 2.91040570e-01],\n",
       "       [2.55182415e-01, 7.44817615e-01],\n",
       "       [2.86738127e-01, 7.13261902e-01],\n",
       "       [9.99929547e-01, 7.04592458e-05],\n",
       "       [9.62834477e-01, 3.71654555e-02],\n",
       "       [9.96834576e-01, 3.16539826e-03],\n",
       "       [9.66073692e-01, 3.39263156e-02],\n",
       "       [9.98961926e-01, 1.03809591e-03],\n",
       "       [7.84289762e-02, 9.21571076e-01],\n",
       "       [9.99223113e-01, 7.76913250e-04],\n",
       "       [4.67024326e-01, 5.32975614e-01],\n",
       "       [1.27947628e-01, 8.72052312e-01],\n",
       "       [2.32453987e-01, 7.67545938e-01],\n",
       "       [5.99111974e-01, 4.00887996e-01],\n",
       "       [9.22281861e-01, 7.77181163e-02],\n",
       "       [8.02685201e-01, 1.97314724e-01],\n",
       "       [9.07737672e-01, 9.22623798e-02],\n",
       "       [9.94367182e-01, 5.63283684e-03],\n",
       "       [8.16100717e-01, 1.83899239e-01],\n",
       "       [1.93211272e-01, 8.06788683e-01],\n",
       "       [9.92254972e-01, 7.74506433e-03],\n",
       "       [9.72271502e-01, 2.77284645e-02],\n",
       "       [4.79622453e-01, 5.20377517e-01],\n",
       "       [9.94331717e-01, 5.66823035e-03],\n",
       "       [9.58587945e-01, 4.14120033e-02],\n",
       "       [9.97279763e-01, 2.72024283e-03],\n",
       "       [9.99312282e-01, 6.87746331e-04],\n",
       "       [9.98730719e-01, 1.26926904e-03],\n",
       "       [6.01018131e-01, 3.98981839e-01],\n",
       "       [9.99487877e-01, 5.12118277e-04],\n",
       "       [8.11098218e-01, 1.88901797e-01],\n",
       "       [9.99804676e-01, 1.95379223e-04],\n",
       "       [9.89552677e-01, 1.04473336e-02],\n",
       "       [7.88239479e-01, 2.11760491e-01],\n",
       "       [9.72427726e-01, 2.75722127e-02],\n",
       "       [2.90927529e-01, 7.09072471e-01],\n",
       "       [9.91251767e-01, 8.74819141e-03],\n",
       "       [2.77365625e-01, 7.22634375e-01],\n",
       "       [1.01384692e-01, 8.98615301e-01],\n",
       "       [6.22154295e-01, 3.77845675e-01],\n",
       "       [9.71538782e-01, 2.84611918e-02],\n",
       "       [9.88792837e-01, 1.12071456e-02],\n",
       "       [2.00846836e-01, 7.99153209e-01],\n",
       "       [3.64858598e-01, 6.35141373e-01],\n",
       "       [9.99884248e-01, 1.15769224e-04],\n",
       "       [2.29546502e-01, 7.70453453e-01],\n",
       "       [9.15182054e-01, 8.48179907e-02],\n",
       "       [9.99554694e-01, 4.45316255e-04],\n",
       "       [3.47700775e-01, 6.52299166e-01],\n",
       "       [4.13026303e-01, 5.86973727e-01],\n",
       "       [9.82149303e-01, 1.78506523e-02],\n",
       "       [9.99494433e-01, 5.05554664e-04],\n",
       "       [6.59936786e-01, 3.40063244e-01],\n",
       "       [9.83553648e-01, 1.64464191e-02],\n",
       "       [7.18262911e-01, 2.81737119e-01],\n",
       "       [5.01263499e-01, 4.98736441e-01],\n",
       "       [9.99975324e-01, 2.46795153e-05],\n",
       "       [9.98864770e-01, 1.13525428e-03],\n",
       "       [9.53584433e-01, 4.64155488e-02],\n",
       "       [4.97965753e-01, 5.02034187e-01],\n",
       "       [9.51394498e-01, 4.86055352e-02],\n",
       "       [9.67284799e-01, 3.27152163e-02],\n",
       "       [9.12465870e-01, 8.75341743e-02],\n",
       "       [9.81505990e-01, 1.84939597e-02],\n",
       "       [4.12025988e-01, 5.87973952e-01],\n",
       "       [1.68660790e-01, 8.31339180e-01],\n",
       "       [8.38755891e-02, 9.16124463e-01],\n",
       "       [9.66511428e-01, 3.34884971e-02],\n",
       "       [9.96055126e-01, 3.94490082e-03],\n",
       "       [7.23410845e-01, 2.76589125e-01],\n",
       "       [9.99797165e-01, 2.02905518e-04],\n",
       "       [3.64809006e-01, 6.35191023e-01],\n",
       "       [2.72052139e-01, 7.27947891e-01],\n",
       "       [4.97996449e-01, 5.02003551e-01],\n",
       "       [9.99898791e-01, 1.01234051e-04],\n",
       "       [9.99375880e-01, 6.24195440e-04],\n",
       "       [7.11684585e-01, 2.88315386e-01]], dtype=float32)"
      ]
     },
     "execution_count": 62,
     "metadata": {},
     "output_type": "execute_result"
    }
   ],
   "source": [
    "#predict for the test data\n",
    "y_estimate = model.predict(x_test)\n",
    "y_estimate"
   ]
  },
  {
   "cell_type": "code",
   "execution_count": 63,
   "metadata": {},
   "outputs": [
    {
     "data": {
      "text/plain": [
       "array([0, 0, 1, 1, 0, 0, 1, 0, 1, 0, 0, 1, 1, 0, 0, 1, 0, 0, 1, 1, 0, 0,\n",
       "       0, 1, 1, 0, 0, 0, 1, 0, 1, 0, 0, 1, 1, 1, 1, 1, 0, 0, 1, 1, 0, 0,\n",
       "       0, 0, 0, 0, 0, 0, 1, 1, 1, 0, 0, 0, 0, 1, 0, 1, 1, 1, 1, 0, 1, 1,\n",
       "       0, 0, 0, 0, 1, 0, 0, 0, 0, 0, 0, 1, 0, 0, 1, 1, 0, 0, 0, 0, 1, 1,\n",
       "       1, 0, 0, 1, 0, 1, 1, 1, 0, 0, 1])"
      ]
     },
     "execution_count": 63,
     "metadata": {},
     "output_type": "execute_result"
    }
   ],
   "source": [
    "#select the indices of the true classes for each label encoding \n",
    "y_true = np.argmax(y_test,axis =1 )\n",
    "y_true"
   ]
  },
  {
   "cell_type": "code",
   "execution_count": null,
   "metadata": {},
   "outputs": [],
   "source": [
    "\n",
    "#print a classification report\n",
    "#print(classification_report(y_test,y_estimate))"
   ]
  }
 ],
 "metadata": {
  "kernelspec": {
   "display_name": "Python 3",
   "language": "python",
   "name": "python3"
  },
  "language_info": {
   "codemirror_mode": {
    "name": "ipython",
    "version": 3
   },
   "file_extension": ".py",
   "mimetype": "text/x-python",
   "name": "python",
   "nbconvert_exporter": "python",
   "pygments_lexer": "ipython3",
   "version": "3.8.5"
  }
 },
 "nbformat": 4,
 "nbformat_minor": 4
}
